{
 "cells": [
  {
   "cell_type": "code",
   "execution_count": 22,
   "id": "96e5c3a5",
   "metadata": {},
   "outputs": [],
   "source": [
    "import numpy as np\n",
    "import pandas as pd\n",
    "import os, shutil\n",
    "from sklearn.utils import shuffle"
   ]
  },
  {
   "cell_type": "code",
   "execution_count": 23,
   "id": "2ebc52cc",
   "metadata": {},
   "outputs": [],
   "source": [
    "# Paths\n",
    "dataset_dir = '../VegetableImages'\n",
    "train_dir = os.path.join(dataset_dir, 'train')\n",
    "test_dir = os.path.join(dataset_dir, 'test')\n",
    "valid_dir = os.path.join(dataset_dir, 'validation')\n",
    "\n",
    "# Directories of images (Class names for each dir)\n",
    "train_dirs = os.listdir(train_dir)\n",
    "test_dirs = os.listdir(test_dir)\n",
    "valid_dirs = os.listdir(valid_dir)"
   ]
  },
  {
   "cell_type": "code",
   "execution_count": 24,
   "id": "753c6d34",
   "metadata": {},
   "outputs": [],
   "source": [
    "# Generate (image, label) pairs\n",
    "def generateImagesLabels(classNames, dirName):\n",
    "    image_paths = []\n",
    "    labels = []\n",
    "    for className in classNames:\n",
    "        for img in os.listdir(dirName + '/' + className):\n",
    "            image_paths.append(dirName + '/' + className + '/' + img)\n",
    "            labels.append(className)\n",
    "    return image_paths, labels\n",
    "\n",
    "train_Images, train_Labels = generateImagesLabels(train_dirs, train_dir)\n",
    "val_Images, val_Labels = generateImagesLabels(valid_dirs, valid_dir)\n",
    "test_Images, test_Labels = generateImagesLabels(test_dirs, test_dir)"
   ]
  },
  {
   "cell_type": "code",
   "execution_count": 25,
   "id": "4343d574",
   "metadata": {},
   "outputs": [],
   "source": [
    "filePathColumn = 'Imagepath'\n",
    "labelColumn = 'Label'\n",
    "\n",
    "train_df = pd.DataFrame(list(zip(train_Images, train_Labels)),columns = [filePathColumn, labelColumn])\n",
    "val_df = pd.DataFrame(list(zip(val_Images, val_Labels)),columns = [filePathColumn, labelColumn])\n",
    "test_df = pd.DataFrame(list(zip(test_Images, test_Labels)),columns = [filePathColumn, labelColumn])\n",
    "\n",
    "allDataset_df = pd.concat([train_df, val_df, test_df])"
   ]
  },
  {
   "cell_type": "code",
   "execution_count": 26,
   "id": "f1582f9e",
   "metadata": {},
   "outputs": [],
   "source": [
    "veg_list = list(train_df[labelColumn].unique())\n",
    "veg_dict = dict(zip(veg_list,range(len(veg_list))))\n",
    "\n",
    "def shuffle_label(df):\n",
    "    df[labelColumn] = df[labelColumn].replace(veg_dict)\n",
    "    df = shuffle(df)\n",
    "    return df\n",
    "\n",
    "train_df = shuffle_label(train_df)\n",
    "val_df = shuffle_label(val_df)\n",
    "test_df = shuffle_label(test_df)\n",
    "allDataset_df = shuffle_label(allDataset_df)"
   ]
  },
  {
   "cell_type": "code",
   "execution_count": 27,
   "id": "fe8df8c3",
   "metadata": {},
   "outputs": [
    {
     "data": {
      "text/html": [
       "<div>\n",
       "<style scoped>\n",
       "    .dataframe tbody tr th:only-of-type {\n",
       "        vertical-align: middle;\n",
       "    }\n",
       "\n",
       "    .dataframe tbody tr th {\n",
       "        vertical-align: top;\n",
       "    }\n",
       "\n",
       "    .dataframe thead th {\n",
       "        text-align: right;\n",
       "    }\n",
       "</style>\n",
       "<table border=\"1\" class=\"dataframe\">\n",
       "  <thead>\n",
       "    <tr style=\"text-align: right;\">\n",
       "      <th></th>\n",
       "      <th>Imagepath</th>\n",
       "      <th>Label</th>\n",
       "    </tr>\n",
       "  </thead>\n",
       "  <tbody>\n",
       "    <tr>\n",
       "      <th>2384</th>\n",
       "      <td>../VegetableImages/validation/Potato/1383.jpg</td>\n",
       "      <td>11</td>\n",
       "    </tr>\n",
       "    <tr>\n",
       "      <th>1821</th>\n",
       "      <td>../VegetableImages/validation/Cucumber/1223.jpg</td>\n",
       "      <td>9</td>\n",
       "    </tr>\n",
       "    <tr>\n",
       "      <th>12517</th>\n",
       "      <td>../VegetableImages/train/Pumpkin/0526.jpg</td>\n",
       "      <td>12</td>\n",
       "    </tr>\n",
       "    <tr>\n",
       "      <th>13995</th>\n",
       "      <td>../VegetableImages/train/Radish/0996.jpg</td>\n",
       "      <td>13</td>\n",
       "    </tr>\n",
       "    <tr>\n",
       "      <th>1271</th>\n",
       "      <td>../VegetableImages/test/Capsicum/1075.jpg</td>\n",
       "      <td>6</td>\n",
       "    </tr>\n",
       "  </tbody>\n",
       "</table>\n",
       "</div>"
      ],
      "text/plain": [
       "                                             Imagepath  Label\n",
       "2384     ../VegetableImages/validation/Potato/1383.jpg     11\n",
       "1821   ../VegetableImages/validation/Cucumber/1223.jpg      9\n",
       "12517        ../VegetableImages/train/Pumpkin/0526.jpg     12\n",
       "13995         ../VegetableImages/train/Radish/0996.jpg     13\n",
       "1271         ../VegetableImages/test/Capsicum/1075.jpg      6"
      ]
     },
     "execution_count": 27,
     "metadata": {},
     "output_type": "execute_result"
    }
   ],
   "source": [
    "allDataset_df.head()"
   ]
  },
  {
   "cell_type": "code",
   "execution_count": 28,
   "id": "c6e156c3",
   "metadata": {},
   "outputs": [],
   "source": [
    "train_df.to_csv('../CSV/' + 'trainset.csv', index=False)\n",
    "val_df.to_csv('../CSV/' + 'valset.csv', index=False)\n",
    "test_df.to_csv('../CSV/' + 'testset.csv', index=False)\n",
    "allDataset_df.to_csv('../CSV/' + 'dataset.csv', index=False)"
   ]
  }
 ],
 "metadata": {
  "kernelspec": {
   "display_name": "Python 3 (ipykernel)",
   "language": "python",
   "name": "python3"
  },
  "language_info": {
   "codemirror_mode": {
    "name": "ipython",
    "version": 3
   },
   "file_extension": ".py",
   "mimetype": "text/x-python",
   "name": "python",
   "nbconvert_exporter": "python",
   "pygments_lexer": "ipython3",
   "version": "3.8.10"
  }
 },
 "nbformat": 4,
 "nbformat_minor": 5
}
